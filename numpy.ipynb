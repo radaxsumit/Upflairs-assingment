{
 "cells": [
  {
   "cell_type": "code",
   "execution_count": 1,
   "metadata": {},
   "outputs": [
    {
     "data": {
      "text/plain": [
       "'2.0.1'"
      ]
     },
     "execution_count": 1,
     "metadata": {},
     "output_type": "execute_result"
    }
   ],
   "source": [
    "import numpy as np\n",
    "np.__version__\n"
   ]
  },
  {
   "cell_type": "markdown",
   "metadata": {},
   "source": [
    "# NumPy Introduction & Guide for Beginners : \n",
    "\n",
    "NumPy stands for Numerical Python, is an open-source Python library that provides support for large, multi-dimensional arrays and matrices.\n",
    "It also have a collection of high-level mathematical functions to operate on arrays. It was created by Travis Oliphant in 2005.\n",
    "\n",
    "> What is NumPy? \n",
    "NumPy is a general-purpose array-processing package.\n",
    "\n",
    "It provides a high-performance multidimensional array object and tools for working with these arrays.\n",
    "\n",
    "It is the fundamental package for scientific computing with Python. It is open-source software.\n",
    "\n",
    "# Features of NumPy\n",
    "  NumPy has various features which make them popular over lists.\n",
    "\n",
    ">Some of these important features include:\n",
    "\n",
    "A powerful N-dimensional array object.\n",
    "\n",
    "Sophisticated (broadcasting) functions.\n",
    "\n",
    "Tools for integrating C/C++ and Fortran code.\n",
    "\n",
    "Useful linear algebra, Fourier transform, and random number capabilities.\n",
    "\n",
    "# note :\n",
    "       In numpy we gonna store similar datatype in Array , we can store multiple types also ,there is no restriction but by doing this it can change the entire datatype of the Array.\n",
    "\n",
    "       as Example:\n",
    "       input : arr = np.array([10,20,30,9.6])\n",
    "               arr\n",
    "\n",
    "        output: array([10. , 20. , 30. ,  9.6])\n",
    "        (in int type arr by adding '9.6' the entire datatype is changed into \"flote\", same as others string..etc)"
   ]
  },
  {
   "cell_type": "code",
   "execution_count": null,
   "metadata": {},
   "outputs": [],
   "source": [
    "arr = np.array([10,20,30,40,50,60,70,80,90,100])\n",
    "\n",
    "# printing types of array Objects :\n",
    "\n",
    "# Printing array dimensions (axes)\n",
    "print(\"Array is a type of :\",type(arr))\n",
    "# numpy.ndarray \n",
    "# numpy = numerical python ,\n",
    "# .ndarray = n- dimensional array\n",
    "\n",
    "# printing dimension of array\n",
    "print(\"No. of dimensions :\",arr.ndim)\n",
    "\n",
    "# printing shape of array\n",
    "print(\"Shape of array :\",arr.shape)\n",
    "\n",
    "# printing size of array\n",
    "print(\"Size of Array:\",arr.size)\n",
    "\n",
    "# printing datatypes store in array\n",
    "print(\"Element store type in Array :\",arr.dtype)"
   ]
  },
  {
   "cell_type": "code",
   "execution_count": null,
   "metadata": {},
   "outputs": [],
   "source": [
    "ls = ['xyz','numpy','python']\n",
    "arr2 = np.array(ls)\n",
    "arr2\n",
    "print(type(ls))\n",
    "print(type(arr2))"
   ]
  },
  {
   "cell_type": "code",
   "execution_count": null,
   "metadata": {},
   "outputs": [],
   "source": [
    "arr = np.array([10,20,30,40,50,60])\n",
    "\n",
    "# indixing [starting = : ending = : jump = ]\n",
    "print(arr[3:7])\n",
    "print(arr[-1:-5:-1])\n",
    "\n",
    "# >>>>> printing Airthamatic Operations on Array :\n",
    "\n",
    "# add 10 to every element\n",
    "print (\"Adding 10 to every element:\", arr+10)\n",
    "\n",
    "# subtract 10 from each element\n",
    "print (\"Subtracting 10 from each element:\", arr-10)\n",
    "\n",
    "# multiply each element by 10\n",
    "print (\"Multiplying each element by 10:\", arr*10)\n",
    "\n",
    "# square each element\n",
    "print (\"Squaring each element:\", arr**2)\n",
    "\n",
    "# modify existing array\n",
    "arr *= 2\n",
    "print (\"Doubled each element of original array:\", arr)\n",
    "\n",
    "# transpose of array\n",
    "a = np.array([[1, 2, 3], [3, 4, 5], [9, 6, 0]])\n",
    "\n",
    "print (\"\\nOriginal array:\\n\", a)\n",
    "print (\"Transpose of array:\\n\", a.T)\n",
    "\n",
    "b =np.array([['a','b','c'],['d','e','f'],['g','h','i']])\n",
    "print('\\n org array :\\n',b)\n",
    "print('\\n invers of array :\\n',b.T)\n",
    "\n",
    "\n",
    "# printing max(),min(),sum() of Array\n",
    "print(\"\\nMin element in array:\",min(arr))\n",
    "print(\"Max element in array:\",max(arr))\n",
    "print(\"Sum of all element in array:\",sum(arr))\n",
    "\n",
    "# printing mean , mode &median \n",
    "print(\"\\nMean of all element in array:\",np.mean(arr))\n",
    "# print(\"Mod of all element in array:\",np.mod(arr))\n",
    "print(\"Median of all element in array:\",np.median(arr))"
   ]
  },
  {
   "cell_type": "code",
   "execution_count": null,
   "metadata": {},
   "outputs": [],
   "source": [
    "# arr = np.random.randint(1,450,500)\n",
    "# arr <100 \n",
    "# sum(arr <100)  # 'sum' function checks the condition ~ and return True/false\n",
    "# arr[arr < 100]\n",
    "\n",
    "# to calculate the number of items less than 100\n",
    "# method1\n",
    "# count =np.sum(arr < 5)\n",
    "# 'sum' use \n",
    "# print(count)\n",
    "\n",
    "# method2\n",
    "# for i in arr:\n",
    "#     if i < 5:\n",
    "#         print(i) \n",
    "#     count = count +1\n",
    "\n",
    "\n",
    "# linespace function creats a uniform array in (given range as : from 1 to 50 i need 10 numbers array)\n",
    "#it aslo uniform distribution (difference btwee is ~ equal)\n",
    "np.linspace(1,50,10)\n"
   ]
  },
  {
   "cell_type": "markdown",
   "metadata": {},
   "source": [
    "### 2D Array"
   ]
  },
  {
   "cell_type": "code",
   "execution_count": null,
   "metadata": {},
   "outputs": [],
   "source": [
    "lis = [[1,2,3],\n",
    "       ['a','b','c'],\n",
    "       [10,20,30] ]\n",
    "\n",
    "arr2 = np.array(lis)\n",
    "arr2\n",
    "\n",
    "# print(ary[1:3,1:3])\n",
    "# print(ary[1:3,0:2])\n",
    "print(arr2[-2:])"
   ]
  },
  {
   "cell_type": "markdown",
   "metadata": {},
   "source": [
    "### 3D Array"
   ]
  },
  {
   "cell_type": "code",
   "execution_count": null,
   "metadata": {},
   "outputs": [],
   "source": [
    "lis = [[[1, 2, 3], [4, 5 , 6], [7, 8, 9]] ,\n",
    "       [[10, 11 , 12], [13, 14, 15], [16, 17 , 18]],\n",
    "       [[19, 20, 21], [22, 23, 24], [25, 26, 27]]]\n",
    "\n",
    "arr3 = np.array(lis)\n",
    "print(arr3)\n",
    "\n",
    "# Printing array dimensions (axes)\n",
    "print(\"\\nArray is a type of :\",type(arr3))\n",
    "\n",
    "# printing simension of array\n",
    "print(\"No. of dimensions :\",arr3.ndim)\n",
    "\n",
    "# printing shape of array\n",
    "print(\"Shape of array [table , row , column ]:\",arr3.shape)\n",
    "\n",
    "# printing size of array\n",
    "print(\"Size of Array:\",arr3.size)\n",
    "\n",
    "# printing datatypes store in array\n",
    "print(\"Element store type in Array :\",arr3.dtype)\n",
    "\n",
    "arr3[1,1:3,1:3]\n",
    "arr3[:,:3,2]\n",
    "\n",
    "# to convert multidimension array into single diminsion array use function --> ravel()/flatten()\n",
    "arr3.ravel()\n",
    "arr3.flatten()\n",
    "\n",
    "# print(arr3.argmin())\n",
    "# print(arr3.argmax())\n",
    "# print(arr3.argsort())"
   ]
  }
 ],
 "metadata": {
  "kernelspec": {
   "display_name": "Python 3",
   "language": "python",
   "name": "python3"
  },
  "language_info": {
   "codemirror_mode": {
    "name": "ipython",
    "version": 3
   },
   "file_extension": ".py",
   "mimetype": "text/x-python",
   "name": "python",
   "nbconvert_exporter": "python",
   "pygments_lexer": "ipython3",
   "version": "3.11.3"
  }
 },
 "nbformat": 4,
 "nbformat_minor": 2
}
