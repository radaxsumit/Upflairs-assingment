{
 "cells": [
  {
   "cell_type": "markdown",
   "metadata": {},
   "source": [
    "Exceptions are errors that occur at runtime (unwanted and unexpected situtation in program) when the program is being executed. They are usually caused by invalid user input or code that is invalid in Python. \" Exception handling allows the program to continue to execute even if an error occurs.\"\n",
    "\n",
    ">>>>> FOUR block are used for Exception handling <<<<<<\n",
    "\n",
    "> The \"try\" block lets you test a block of code for errors.\n",
    "\n",
    "> The \"except\" block lets you handle the error.\n",
    "\n",
    "> The \"else\" block lets you execute code when there is no error.\n",
    "\n",
    "> The \"finally\" block lets you execute code, regardless of the result of the try- and except blocks / having error or not ."
   ]
  },
  {
   "cell_type": "markdown",
   "metadata": {},
   "source": [
    "1. try block : it just try the code , fi error occur then it passes it to \"except\" bock , it doesn't deal with the error"
   ]
  },
  {
   "cell_type": "code",
   "execution_count": null,
   "metadata": {},
   "outputs": [],
   "source": [
    "try :\n",
    "    print(x)\n",
    "\n",
    "except:\n",
    "    print(\"An exception occure\")"
   ]
  },
  {
   "cell_type": "markdown",
   "metadata": {},
   "source": [
    "2 . Else block:\n",
    "You can use the \"else\" keyword to define a block of code to be executed if no errors were raised"
   ]
  },
  {
   "cell_type": "code",
   "execution_count": null,
   "metadata": {},
   "outputs": [],
   "source": [
    "try:\n",
    "    print(\"Hello\")\n",
    "\n",
    "except:\n",
    "    print(\"Something went wrong\")\n",
    "\n",
    "else:\n",
    "    print(\"nothing went wrong\")"
   ]
  },
  {
   "cell_type": "markdown",
   "metadata": {},
   "source": [
    "3. Finally block :\n",
    "The finally block, if specified, will be executed regardless if the try block raises an error or not."
   ]
  },
  {
   "cell_type": "code",
   "execution_count": null,
   "metadata": {},
   "outputs": [],
   "source": [
    "try :\n",
    "    print(x)\n",
    "\n",
    "except:\n",
    "    print(\"An exception occure\")\n",
    "\n",
    "finally:\n",
    "    print(\"it doesn't matter\")"
   ]
  },
  {
   "cell_type": "markdown",
   "metadata": {},
   "source": [
    ">>>>>>>>>>>>>>>>>>>>>>>>>>>>>>>>>>>>>>>>>   Different types of exceptions in python    <<<<<<<<<<<<<<<<<<<<<<<<<<<<<<<<<<<<<<\n",
    "In Python, there are several built-in Python exceptions that can be raised when an error occurs during the execution of a program. Here are some of the most common types of exceptions in Python:\n",
    "\n",
    "1. SyntaxError: This exception is raised when the interpreter encounters a syntax error in the code, such as a misspelled keyword, a missing colon, or an   unbalanced parenthesis.\n",
    "\n",
    "2. TypeError: This exception is raised when an operation or function is applied to an object of the wrong type, such as adding a string to an integer.\n",
    "\n",
    "3. NameError: This exception is raised when a variable or function name is not found in the current scope.\n",
    "\n",
    "4. IndexError: This exception is raised when an index is out of range for a list, tuple, or other sequence types.\n",
    "\n",
    "5. KeyError: This exception is raised when a key is not found in a dictionary.\n",
    "\n",
    "6.ValueError: This exception is raised when a function or method is called with an invalid argument or input, such as trying to convert a string to an integer when the string does not represent a valid integer.\n"
   ]
  },
  {
   "cell_type": "code",
   "execution_count": null,
   "metadata": {},
   "outputs": [],
   "source": [
    "### 1. type Error\n",
    "x = 10\n",
    "y = 'Hello'\n",
    "\n",
    "try:\n",
    "    z = x + y\n",
    "\n",
    "except TypeError:\n",
    "    print(\"Type error : a string can't added into integer \")"
   ]
  },
  {
   "cell_type": "code",
   "execution_count": null,
   "metadata": {},
   "outputs": [],
   "source": [
    "### 2. Name error\n",
    "\n",
    "# print(rada)\n",
    "\n",
    "def message():\n",
    "    try:\n",
    "        rada = \"it doesn't matter \"\n",
    "        return \"it doesn't matter\"\n",
    "    \n",
    "    except NameError:\n",
    "        return \"NameError : some varaible is not define\"\n",
    "\n",
    "print(message())"
   ]
  },
  {
   "cell_type": "code",
   "execution_count": null,
   "metadata": {},
   "outputs": [],
   "source": [
    "### 3. IndexError:\n",
    "\n",
    "# lis = ['a','b','c','d']\n",
    "# print(lis[4])\n",
    "\n",
    "my_list = [1, 2, 3]\n",
    "try:\n",
    "    print(my_list[3])\n",
    "except IndexError:\n",
    "    print(\"Index is out of range\")"
   ]
  },
  {
   "cell_type": "code",
   "execution_count": 21,
   "metadata": {},
   "outputs": [
    {
     "name": "stdout",
     "output_type": "stream",
     "text": [
      "rada's records doesn't exist\n"
     ]
    }
   ],
   "source": [
    "### 4. keyError:\n",
    "\n",
    "subject_marks = {'sumit':94,\n",
    "                 'sorab':97,\n",
    "                 'ronak' :80}\n",
    "\n",
    "try:\n",
    "    print(subject_marks['rada'])\n",
    "\n",
    "except KeyError:\n",
    "    print(\"rada's records doesn't exist\")"
   ]
  },
  {
   "cell_type": "code",
   "execution_count": 24,
   "metadata": {},
   "outputs": [
    {
     "name": "stdout",
     "output_type": "stream",
     "text": [
      "69.0\n",
      "Error: Unable to convert the string to a float\n"
     ]
    }
   ],
   "source": [
    "### 5. ValueError:\n",
    "\n",
    "a = 69\n",
    "b = \"it doesn't matter\"\n",
    "\n",
    "try: \n",
    "    print(float(a))\n",
    "    print(float(b))\n",
    "\n",
    "except ValueError:\n",
    "    print(\"Error: Unable to convert the string to a float\")"
   ]
  },
  {
   "cell_type": "code",
   "execution_count": null,
   "metadata": {},
   "outputs": [],
   "source": [
    "## lecture program\n",
    "try:\n",
    "    name = input(\"Plz enter your name : \")\n",
    "    age = int(input(\"Plz enter your age : \"))\n",
    "    print(f\"heyy my name is {name} and i'm {age}\")\n",
    "\n",
    "except:\n",
    "    print(\"Error is occured , plz don't stop the the exicution of the program  >>>>> \")\n",
    "\n",
    "else:\n",
    "    print(\"ERROR is not occured\")\n",
    "\n",
    "finally:\n",
    "    print(\"This print will exicuted weither we get an ERROR orr NOT \")\n",
    "\n",
    "print(\"This is an important msg to be exicuted 1\")\n",
    "print(\"This is an important msg to be exicuted 2\")\n",
    "print(\"This is an important msg to be exicuted 3\")\n",
    "print(\"This is an important msg to be exicuted 4\")\n",
    "print(\"This is an important msg to be exicuted 5\")"
   ]
  }
 ],
 "metadata": {
  "kernelspec": {
   "display_name": ".venv",
   "language": "python",
   "name": "python3"
  },
  "language_info": {
   "codemirror_mode": {
    "name": "ipython",
    "version": 3
   },
   "file_extension": ".py",
   "mimetype": "text/x-python",
   "name": "python",
   "nbconvert_exporter": "python",
   "pygments_lexer": "ipython3",
   "version": "3.11.3"
  }
 },
 "nbformat": 4,
 "nbformat_minor": 2
}
