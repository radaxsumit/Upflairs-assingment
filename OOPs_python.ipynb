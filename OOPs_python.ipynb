{
 "cells": [
  {
   "cell_type": "markdown",
   "metadata": {},
   "source": [
    "# Object-Oriented Programming in Python\n",
    "\n",
    "object is an instance / real world entity which can accese class property ,\n",
    "and class is an blue print , which tells the way how a code written Systematically \n",
    "\n",
    "By understanding the core OOP principles—classes, objects, inheritance, encapsulation, polymorphism, and abstraction\n",
    "\n",
    "# OOPs Concepts in Python\n",
    ">Class in Python.\n",
    "\n",
    ">Objects in Python.\n",
    "\n",
    ">Polymorphism in Python.\n",
    "\n",
    ">Encapsulation in Python.\n",
    "\n",
    ">Inheritance in Python.\n",
    "\n",
    ">Data Abstraction in Python."
   ]
  },
  {
   "cell_type": "code",
   "execution_count": null,
   "metadata": {},
   "outputs": [],
   "source": [
    "class Student:\n",
    "    #class properties\n",
    "    tudent_name = 'Sumit prajapati'\n",
    "    student_college = 'Arya college of engineering'\n",
    "    college_city = 'Jaipur'\n",
    "# to access the properties of class we will need an object\n",
    "\n",
    "# object or instance creation\n",
    "obj = Student()\n",
    "print(obj.student_name)\n",
    "print(obj.student_college)\n",
    "print(obj.college_city)"
   ]
  },
  {
   "cell_type": "code",
   "execution_count": null,
   "metadata": {},
   "outputs": [],
   "source": [
    "class Student :\n",
    "    # calss varable \n",
    "    student_name = \"Sumit prajapati\"\n",
    "    student_college = \"Arya college of engineering\"\n",
    "\n",
    "    def __init__(self ,roll_no ,branch , address , mark_lis ):\n",
    "          # instance varable\n",
    "        self.student_roll_no = roll_no\n",
    "        self.student_branch = branch\n",
    "        self.student_address = address\n",
    "        self.student_marks_lis = mark_lis\n",
    "        print(\"constructor executed\")\n",
    "\n",
    "\n",
    "     # function are call METHODS inside the class  \n",
    "    def marks_avgrage_finder(self):\n",
    "        marks = self.student_marks_lis\n",
    "        total_sum = 0\n",
    "        count = 0\n",
    "        for mark in marks:\n",
    "            total_sum = total_sum + mark\n",
    "            count = count+1\n",
    "\n",
    "        print(f\"The sum of given num : {total_sum/count}\")\n"
   ]
  },
  {
   "cell_type": "code",
   "execution_count": null,
   "metadata": {},
   "outputs": [],
   "source": [
    "rada1 = Student(roll_no= 23 ,branch= 'CSE',address='Jaipur',mark_lis=[23,49,44,53])\n",
    "rada2 = Student(roll_no= 99 ,branch= 'CSE',address='Earth',mark_lis=[0,1,2,3])\n"
   ]
  },
  {
   "cell_type": "code",
   "execution_count": null,
   "metadata": {},
   "outputs": [],
   "source": [
    "rada1.marks_avgrage_finder()"
   ]
  },
  {
   "cell_type": "code",
   "execution_count": null,
   "metadata": {},
   "outputs": [],
   "source": [
    "rada2.marks_avgrage_finder()"
   ]
  },
  {
   "cell_type": "markdown",
   "metadata": {},
   "source": [
    "# NOTE :\n",
    "       object is necassary to acess the properties of a class ,wheather we access inside  the class aur outside the calss . and \n",
    "       when there is no object is created , how we can access/call -> varable/methods of a class , thus we use \"self\" to referance the absence of object \n",
    "\n",
    "         function define -> varable = parameter\n",
    "         function calling -> varable = argumrnt"
   ]
  },
  {
   "cell_type": "code",
   "execution_count": null,
   "metadata": {},
   "outputs": [],
   "source": [
    "class Practice:\n",
    "    #instance varable\n",
    "    def __init__(self , random_varable):\n",
    "        self.practice_ramdom_number = random_varable\n",
    "        print(\"constructor executed\")\n",
    "\n",
    "#NOTE : object is necassary to acess the properties of a class ,wheather we access inside  the class aur outside the calss . and \n",
    "        # when there is no object is created , how we can access/call -> varable/methods of a class , thus we use \"self\" to referance the absence of object \n",
    "        \n",
    "    # METHODS \n",
    "    def target_finder(self):\n",
    "        count = 0\n",
    "        mark = self.practice_ramdom_number  # self.varable_name = obj.varable_name ('self' refering obj here)\n",
    "        for i in mark:\n",
    "            if i == 88 :\n",
    "                print(count)\n",
    "            count =count+1\n",
    "        "
   ]
  },
  {
   "cell_type": "code",
   "execution_count": null,
   "metadata": {},
   "outputs": [],
   "source": [
    "obj = Practice(random_varable= [10,55,14,2,1,66,88,54,65,15,1])"
   ]
  },
  {
   "cell_type": "code",
   "execution_count": null,
   "metadata": {},
   "outputs": [],
   "source": [
    "obj.target_finder()"
   ]
  },
  {
   "cell_type": "code",
   "execution_count": null,
   "metadata": {},
   "outputs": [],
   "source": [
    "class Student :\n",
    "    department  = \"CSE\"\n",
    "    name = \"Sumit\"\n",
    "\n",
    "    def __init__(self , nm ,yr , roll_num,city_name):\n",
    "        self.student_name = nm\n",
    "        self.student_year = yr\n",
    "        self.student_rollno = roll_num \n",
    "        self.student_city = city_name\n",
    "\n",
    "# Methods   instance varable\n",
    "    def display(self):\n",
    "        print(f\"Name of student = {self.student_name}\")\n",
    "        print(f\"current year studing = {self.student_year}\")\n",
    "        print(f\"ROLL_NUM = {self.student_rollno}\")\n",
    "        print(f\"college city = {self.student_city}\")\n",
    "\n",
    "    @classmethod\n",
    "    def display2(cls):\n",
    "        print(f\"Name of department = {cls.department}\")\n",
    "        print(f\"Name of student = {cls.name}\")"
   ]
  },
  {
   "cell_type": "code",
   "execution_count": null,
   "metadata": {},
   "outputs": [],
   "source": [
    "obj = Student(nm=\"sumit\",yr=3,roll_num=23,city_name=\"jaipur\")"
   ]
  },
  {
   "cell_type": "code",
   "execution_count": null,
   "metadata": {},
   "outputs": [],
   "source": [
    "obj.display()\n",
    "\n",
    "obj.display2()"
   ]
  },
  {
   "cell_type": "markdown",
   "metadata": {},
   "source": [
    "Like other Object-Oriented languages, when creating objects using classes, there are four(4) basic principles for writing clean and concise code. These principles are called the four pillars of object-oriented programming (OOP). \n",
    "These four pillars are \n",
    ">Inheritance, Polymorphism, Encapsulation and Abstraction."
   ]
  }
 ],
 "metadata": {
  "kernelspec": {
   "display_name": "Python 3",
   "language": "python",
   "name": "python3"
  },
  "language_info": {
   "codemirror_mode": {
    "name": "ipython",
    "version": 3
   },
   "file_extension": ".py",
   "mimetype": "text/x-python",
   "name": "python",
   "nbconvert_exporter": "python",
   "pygments_lexer": "ipython3",
   "version": "3.11.3"
  }
 },
 "nbformat": 4,
 "nbformat_minor": 2
}
