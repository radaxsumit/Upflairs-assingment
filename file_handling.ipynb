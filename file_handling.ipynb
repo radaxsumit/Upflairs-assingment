{
 "cells": [
  {
   "cell_type": "markdown",
   "metadata": {},
   "source": [
    "# Python File Handling : \n",
    "\"The process of file handling refers to how we store the available data or info in a file with the help of a program \"\n",
    "\n",
    ">Advantages of File Handling in Python : \n",
    "\n",
    "Versatility: File handling in Python allows you to perform a wide range of operations, such as creating, reading, writing, appending, renaming, and deleting files.\n",
    "\n",
    "Flexibility: File handling in Python is highly flexible, as it allows you to work with different file types (e.g. text files, binary files, CSV files, etc.), and to perform different operations on files (e.g. read, write, append, etc.).\n",
    "\n",
    "User–friendly: Python provides a user-friendly interface for file handling, making it easy to create, read, and manipulate files.\n",
    "\n",
    "Cross-platform: Python file-handling functions work across different platforms (e.g. Windows, Mac, Linux), allowing for seamless integration and compatibility.\n",
    "\n",
    ">Disadvantages of File Handling in Python :\n",
    "\n",
    "Error-prone: File handling operations in Python can be prone to errors, especially if the code is not carefully written or if there are issues with the file system (e.g. file permissions, file locks, etc.).\n",
    "\n",
    "Security risks: File handling in Python can also pose security risks, especially if the program accepts user input that can be used to access or modify sensitive files on the system.\n",
    "\n",
    "Complexity: File handling in Python can be complex, especially when working with more advanced file formats or operations. Careful attention must be paid to the code to ensure that files are handled properly and securely.\n",
    "\n",
    "Performance: File handling operations in Python can be slower than other programming languages, especially when dealing with large files or performing complex operations.\n",
    "\n",
    "\n",
    "# create \n",
    ">f = open(filename, mode)\n",
    "NOTE : by defalut in read mode = r\n",
    "file = open('demo.txt')\n",
    "\n",
    "\n",
    "# Where the following mode is supported:\n",
    "\n",
    "r: open an existing file for a read operation.\n",
    "\n",
    "w: open an existing file for a write operation. If the file already contains some data, then it will be overridden but if the file is not present then it creates the file as well.\n",
    "\n",
    "a:  open an existing file for append operation. It won’t override existing data.\n",
    "\n",
    "r+:  To read and write data into the file. This mode does not override the existing data, but you can modify the data starting from the beginning of the file.\n",
    "\n",
    "w+: To write and read data. It overwrites the previous file if one exists, it will truncate the file to zero length or create a file if it does not exist.\n",
    "\n",
    "a+: To append and read data from the file. It won’t override existing data."
   ]
  },
  {
   "cell_type": "code",
   "execution_count": null,
   "metadata": {},
   "outputs": [],
   "source": [
    "\n",
    "## when u use 'w'/'a'(write / append) if there is no file present ,then it will create a file (eg. demo.txt) and preform the opertation\n",
    "\n",
    "message = \"\"\"\n",
    "it doesn't matter\n",
    "what do u think......\"\"\"\n",
    "\n",
    "file = open('demo.txt', 'w')            # open file > perfome write opertation 'w'\n",
    "file.write(message)\n",
    "file.close()\n",
    "\n",
    "# # 'a' also consist of passt data (also print previous data)\n",
    "\n",
    "# message = \"\"\"\n",
    "# it doesn't matter\n",
    "# what do u think......\"\"\"\n",
    "\n",
    "# file = open('demo.txt', 'a')           # open file > perfome write opertation 'a'\n",
    "# file.write(message)\n",
    "# file.close()"
   ]
  },
  {
   "cell_type": "code",
   "execution_count": null,
   "metadata": {},
   "outputs": [],
   "source": [
    "# path / addresh should be given  , \n",
    "# 2 types (Absolute and relative path)\n",
    "\n",
    "# file_path = r\"C:\\Users\\Sumit Prajapati\\OneDrive\\Desktop\\DS AI\\Lectures_day\\demo.txt\"     (# Absolute path)\n",
    "file = open('demo.txt','r')                                                                #( Relative path)\n",
    "data = file.read()\n",
    "print(data)\n",
    "\n"
   ]
  },
  {
   "cell_type": "code",
   "execution_count": null,
   "metadata": {},
   "outputs": [],
   "source": [
    "# to avoid using 'close' at every file we use this syntax (and bydefalut file always open in read mode):\n",
    "\n",
    "with open('demo.txt', 'r') as file :\n",
    "    content = file.read()\n",
    "    print(content)"
   ]
  }
 ],
 "metadata": {
  "kernelspec": {
   "display_name": "Python 3",
   "language": "python",
   "name": "python3"
  },
  "language_info": {
   "codemirror_mode": {
    "name": "ipython",
    "version": 3
   },
   "file_extension": ".py",
   "mimetype": "text/x-python",
   "name": "python",
   "nbconvert_exporter": "python",
   "pygments_lexer": "ipython3",
   "version": "3.11.3"
  }
 },
 "nbformat": 4,
 "nbformat_minor": 2
}
